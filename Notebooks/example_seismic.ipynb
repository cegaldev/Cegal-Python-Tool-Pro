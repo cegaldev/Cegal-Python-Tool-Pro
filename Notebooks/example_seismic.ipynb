{
 "cells": [
  {
   "cell_type": "markdown",
   "metadata": {},
   "source": [
    "### Import modules"
   ]
  },
  {
   "cell_type": "code",
   "execution_count": null,
   "metadata": {},
   "outputs": [],
   "source": [
    "from blueback.pythontool.grpc.petrelconnection import PetrelConnection\n",
    "from blueback.pythontool.primitives import Point\n",
    "from blueback.pythontool.primitives import Indices"
   ]
  },
  {
   "cell_type": "markdown",
   "metadata": {},
   "source": [
    "In this example Petrel is assumed to run on the same computer (localhost) as this Python script is run.\n",
    "The port number must match the number selected for the Python API server."
   ]
  },
  {
   "cell_type": "code",
   "execution_count": null,
   "metadata": {},
   "outputs": [],
   "source": [
    "port_number = 40129\n",
    "petrel = PetrelConnection(port_number)"
   ]
  },
  {
   "cell_type": "markdown",
   "metadata": {},
   "source": [
    "Open the pettrellink. An exception is thrown if the connection is not successfully created"
   ]
  },
  {
   "cell_type": "code",
   "execution_count": null,
   "metadata": {},
   "outputs": [],
   "source": [
    "petrel.open()"
   ]
  },
  {
   "cell_type": "markdown",
   "metadata": {},
   "source": [
    "Find all seismic cubes as a dictionary with Petrel name and paths\n",
    "-------------------------------------------------\n"
   ]
  },
  {
   "cell_type": "code",
   "execution_count": null,
   "metadata": {},
   "outputs": [],
   "source": [
    "all_cubes = petrel.seismic_cubes\n",
    "print(all_cubes)"
   ]
  },
  {
   "cell_type": "markdown",
   "metadata": {},
   "source": [
    "### Iterate over all cubes"
   ]
  },
  {
   "cell_type": "code",
   "execution_count": null,
   "metadata": {},
   "outputs": [],
   "source": [
    "for cube in petrel.seismic_cubes:\n",
    "    print(cube)"
   ]
  },
  {
   "cell_type": "markdown",
   "metadata": {},
   "source": [
    "Get a specific Seismic cube\n",
    "-------------------\n",
    "To get a specific seismic cube. Look up either using the unique id or the path.\n",
    "Petrel allows equal object names so the path is not guaranteed to be unique.\n",
    "In cases of equal paths, use the unique id instead of the path to look up.\n",
    "\n",
    "### Get the first seismic cube in the all_cubes dictionary\n",
    "Get the path to the first cube:"
   ]
  },
  {
   "cell_type": "code",
   "execution_count": null,
   "metadata": {},
   "outputs": [],
   "source": [
    "a_cube_name_and_path = list(all_cubes.items())[0]\n",
    "cube_path = a_cube_name_and_path[0]\n",
    "print(cube_path)"
   ]
  },
  {
   "cell_type": "code",
   "execution_count": null,
   "metadata": {},
   "outputs": [],
   "source": [
    "a_cube_name_and_path"
   ]
  },
  {
   "cell_type": "markdown",
   "metadata": {},
   "source": [
    "a_cube_name_and_path = list(all_cubes.items())[0] selects the first item from the list shown by petrel.seismic_cubes\n",
    "This includes the Petrel path [0] in the first position and the Petrel name [1] in the second position.\n",
    "cube_path = a_cube_id_and_path[0] selects the path of the selected cube."
   ]
  },
  {
   "cell_type": "markdown",
   "metadata": {},
   "source": [
    "Use path the get a reference to the cube:"
   ]
  },
  {
   "cell_type": "code",
   "execution_count": null,
   "metadata": {},
   "outputs": [],
   "source": [
    "cube = petrel.seismic_cubes[cube_path]"
   ]
  },
  {
   "cell_type": "markdown",
   "metadata": {},
   "source": [
    "### Description of cube:"
   ]
  },
  {
   "cell_type": "code",
   "execution_count": null,
   "metadata": {},
   "outputs": [],
   "source": [
    "print(f'{cube}')"
   ]
  },
  {
   "cell_type": "markdown",
   "metadata": {},
   "source": [
    "### Petrel name of cube"
   ]
  },
  {
   "cell_type": "code",
   "execution_count": null,
   "metadata": {},
   "outputs": [],
   "source": [
    "name = cube.petrel_name\n",
    "print(name)"
   ]
  },
  {
   "cell_type": "markdown",
   "metadata": {},
   "source": [
    "### Size of cube:"
   ]
  },
  {
   "cell_type": "code",
   "execution_count": null,
   "metadata": {},
   "outputs": [],
   "source": [
    "extent = cube.extent\n",
    "print(extent)"
   ]
  },
  {
   "cell_type": "markdown",
   "metadata": {},
   "source": [
    "### Cube is read only:"
   ]
  },
  {
   "cell_type": "code",
   "execution_count": null,
   "metadata": {},
   "outputs": [],
   "source": [
    "readonly = cube.readonly\n",
    "print(f'{readonly}')"
   ]
  },
  {
   "cell_type": "markdown",
   "metadata": {},
   "source": [
    "Change readonly status"
   ]
  },
  {
   "cell_type": "code",
   "execution_count": null,
   "metadata": {},
   "outputs": [],
   "source": [
    "cube.readonly = False\n",
    "cube.readonly"
   ]
  },
  {
   "cell_type": "markdown",
   "metadata": {},
   "source": [
    "###  Cube coordinate extent"
   ]
  },
  {
   "cell_type": "code",
   "execution_count": null,
   "metadata": {},
   "outputs": [],
   "source": [
    "coord_extent = cube.coords_extent\n",
    "print(f'x: {coord_extent.x_axis}')\n",
    "print(f'y: {coord_extent.y_axis}')\n",
    "print(f'z: {coord_extent.z_axis}')"
   ]
  },
  {
   "cell_type": "markdown",
   "metadata": {},
   "source": [
    "### Center of cell with indices"
   ]
  },
  {
   "cell_type": "code",
   "execution_count": null,
   "metadata": {},
   "outputs": [],
   "source": [
    "cell_indices = Indices(i = extent.i//2, j = extent.j//2, k = extent.k//3)\n",
    "cell_center_position = cube.position(cell_indices.i, cell_indices.j, cell_indices.k)\n",
    "print(f'{cell_indices}: {cell_center_position}')"
   ]
  },
  {
   "cell_type": "markdown",
   "metadata": {},
   "source": [
    "### Indices of cell at position"
   ]
  },
  {
   "cell_type": "code",
   "execution_count": null,
   "metadata": {},
   "outputs": [],
   "source": [
    "pos = cell_center_position\n",
    "cell_indices_at_pos = cube.indices(pos.x, pos.y, pos.z)\n",
    "print(f'{pos}: {cell_indices_at_pos}')"
   ]
  },
  {
   "cell_type": "markdown",
   "metadata": {},
   "source": [
    "### Read and set seismic cube values:"
   ]
  },
  {
   "cell_type": "code",
   "execution_count": null,
   "metadata": {},
   "outputs": [],
   "source": [
    "cube.readonly = False\n",
    "cube_chunk = cube.chunk((0,1), (1,3), (0,3))\n",
    "cube_chunk.set(77.77)\n",
    "cube_chunk_values = cube_chunk.as_array()\n",
    "print(cube_chunk_values)"
   ]
  },
  {
   "cell_type": "code",
   "execution_count": null,
   "metadata": {},
   "outputs": [],
   "source": []
  }
 ],
 "metadata": {
  "anaconda-cloud": {},
  "kernelspec": {
   "display_name": "Python 3",
   "language": "python",
   "name": "python3"
  },
  "language_info": {
   "codemirror_mode": {
    "name": "ipython",
    "version": 3
   },
   "file_extension": ".py",
   "mimetype": "text/x-python",
   "name": "python",
   "nbconvert_exporter": "python",
   "pygments_lexer": "ipython3",
   "version": "3.8.8"
  }
 },
 "nbformat": 4,
 "nbformat_minor": 4
}
