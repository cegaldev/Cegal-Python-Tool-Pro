{
 "cells": [
  {
   "cell_type": "markdown",
   "metadata": {},
   "source": [
    "# Calculating a seismic attribute with Python Tool Pro\n",
    "\n",
    "With the existing Python Tool, scripts are written and run from an embedded editor in the Python Tool. In contrast, Python Tool Pro offers an API which is meant to be used in the end user's scripts run in a process separated from Petrel. The end user will use the API of the Python Tool Pro in a Jupyter Notebook, an IPython shell, or on any platform capable of running Python scripts.\n",
    "\n",
    "This example demonstrates how to use Python Tool Pro to calculate a seismic attribute using a pretrained model shared on github by a 3rd party.\n",
    "\n",
    "\n",
    "# Loading required libraries\n",
    "\n",
    "First load the required libraries:"
   ]
  },
  {
   "cell_type": "code",
   "execution_count": null,
   "metadata": {},
   "outputs": [],
   "source": [
    "import math\n",
    "from tensorflow.keras.models import load_model, model_from_json\n",
    "import matplotlib.pyplot as plt\n",
    "import numpy as np\n",
    "import tensorflow as tf\n",
    "import os\n",
    "import matplotlib\n",
    "import numpy as np\n",
    "import itkwidgets\n",
    "from blueback.pythontool.grpc.petrelconnection import PetrelConnection\n",
    "from blueback.pythontool.grpc import petrelinterface_pb2"
   ]
  },
  {
   "cell_type": "markdown",
   "metadata": {},
   "source": [
    "# Managing GPU memory\n",
    "\n",
    "Then some housekeeping required to manage my gpu memory. This might not be necessary on your computer:"
   ]
  },
  {
   "cell_type": "code",
   "execution_count": null,
   "metadata": {},
   "outputs": [],
   "source": [
    "gpu = tf.config.experimental.list_physical_devices('GPU')\n",
    "tf.config.experimental.set_memory_growth(gpu[0], True)"
   ]
  },
  {
   "cell_type": "markdown",
   "metadata": {},
   "source": [
    "# Connect to Petrel\n",
    "This Jupyter Notebook is a client which connects to the Python Tool Pro server. The port number must be given as shown below."
   ]
  },
  {
   "cell_type": "code",
   "execution_count": null,
   "metadata": {},
   "outputs": [],
   "source": [
    "petrel = PetrelConnection(port=40129)\n",
    "petrel.open()\n",
    "\n",
    "print(f'Currently open Petrel project is {petrel.get_current_project_name()}')"
   ]
  },
  {
   "cell_type": "markdown",
   "metadata": {},
   "source": [
    "# Retrieving data from Petrel\n",
    "Lets use a ipywidget to make it easier to select one of the seismic cubes in the project."
   ]
  },
  {
   "cell_type": "code",
   "execution_count": null,
   "metadata": {},
   "outputs": [],
   "source": [
    "cubes = petrel.seismic_cubes\n",
    "cube_names = list(petrel.seismic_cubes.keys())\n",
    "import ipywidgets as widgets\n",
    "w = widgets.Dropdown(\n",
    "    options=cube_names,\n",
    "    value=cube_names[0],\n",
    "    description='Select cube:',\n",
    "    disabled=False,\n",
    ")\n",
    "display(w)"
   ]
  },
  {
   "cell_type": "markdown",
   "metadata": {},
   "source": [
    "Get a reference to a cube."
   ]
  },
  {
   "cell_type": "code",
   "execution_count": null,
   "metadata": {},
   "outputs": [],
   "source": [
    "cube = petrel.seismic_cubes[w.value]"
   ]
  },
  {
   "cell_type": "markdown",
   "metadata": {},
   "source": [
    "Lets double check that the selected seismic is large enough to be processed with the tensorflow model."
   ]
  },
  {
   "cell_type": "code",
   "execution_count": null,
   "metadata": {},
   "outputs": [],
   "source": [
    "assert cube.extent.i >= 128 and cube.extent.j >= 128 and cube.extent.k >= 128"
   ]
  },
  {
   "cell_type": "markdown",
   "metadata": {},
   "source": [
    "Get a 128x128x128 chunk of the cube:"
   ]
  },
  {
   "cell_type": "code",
   "execution_count": null,
   "metadata": {},
   "outputs": [],
   "source": [
    "span = 127\n",
    "x = int((cube.extent.i - 128)/2)\n",
    "y = int((cube.extent.j - 128)/2)\n",
    "z = int((cube.extent.k - 128)/2)\n",
    "arr  = cube.chunk((x,x+span),(y,y+span),(z,z+span)).as_array()"
   ]
  },
  {
   "cell_type": "markdown",
   "metadata": {},
   "source": [
    "# Visualising seismic chunk\n",
    "Then use itkwidgets to get a view of the cube:"
   ]
  },
  {
   "cell_type": "code",
   "execution_count": null,
   "metadata": {},
   "outputs": [],
   "source": [
    "itkwidgets.view(image=(np.rot90(arr, 1, (0,2))-arr.mean())/arr.std(),shadow=False, gradient_opacity=0.0, ui_collapsed=True, cmap=itkwidgets.cm.BuRd, opacity_gaussians= [[{'position': 0.5, 'height': 1, 'width': 0.5, 'xBias': 0.0, 'yBias': 2.0}]])"
   ]
  },
  {
   "cell_type": "markdown",
   "metadata": {},
   "source": [
    "# Processing the seismic chunk\n",
    "\n",
    "Load the FaultSeg model:"
   ]
  },
  {
   "cell_type": "code",
   "execution_count": null,
   "metadata": {},
   "outputs": [],
   "source": [
    "loaded_model = load_model(\"fseg-70.hdf5\", custom_objects={'cross_entropy_balanced': tf.keras.losses.BinaryCrossentropy()})"
   ]
  },
  {
   "cell_type": "markdown",
   "metadata": {},
   "source": [
    "FaultSeg model download link can be found in the readme file"
   ]
  },
  {
   "cell_type": "markdown",
   "metadata": {},
   "source": [
    "Here is a wrapper function that handles applying the model to an array delivered by petrel."
   ]
  },
  {
   "cell_type": "code",
   "execution_count": null,
   "metadata": {},
   "outputs": [],
   "source": [
    "def fault_attribute_calculator(arr):\n",
    "    arr = np.rot90(arr, 1, (0,2))\n",
    "    arr = (arr - arr.mean())/arr.std()\n",
    "    n1, n2, n3 = 128, 128, 128\n",
    "    gx = np.reshape(arr,(1,n1,n2,n3,1))\n",
    "    Y = loaded_model.predict(gx,verbose=1)\n",
    "    Y = Y.reshape((n1,n2,n3))\n",
    "    return np.rot90(Y, -1, (0,2))"
   ]
  },
  {
   "cell_type": "markdown",
   "metadata": {},
   "source": [
    "And apply it to the seismic cube chunk we got before."
   ]
  },
  {
   "cell_type": "code",
   "execution_count": null,
   "metadata": {},
   "outputs": [],
   "source": [
    "faults = fault_attribute_calculator(arr)"
   ]
  },
  {
   "cell_type": "markdown",
   "metadata": {},
   "source": [
    "And then visualize the results:"
   ]
  },
  {
   "cell_type": "code",
   "execution_count": null,
   "metadata": {},
   "outputs": [],
   "source": [
    "# The code contained within this cell is modified from the itkwidget source code. It is licenced under the apache-2 licence. Please see the included file \"itkwidgets-licence.txt\" for details.\n",
    "\n",
    "import numpy as np\n",
    "import ipywidgets as widgets\n",
    "from itkwidgets.widget_viewer import Viewer\n",
    "from traitlets import CBool\n",
    "import IPython\n",
    "\n",
    "def fault_compare(image1, image2,\n",
    "            link_cmap=False, link_gradient_opacity=False,\n",
    "            **viewer_kwargs):\n",
    "    \"\"\"Compare two images by visualizing them side by side.\n",
    "    Visualization traits, e.g. the view mode, camera, etc., are linked\n",
    "    between the viewers. Optional trait linking can be enabled in widget's\n",
    "    user interface.\n",
    "    \"\"\"\n",
    "\n",
    "    viewer1 = Viewer(image=image1, shadow=False, gradient_opacity=0.0, ui_collapsed=True, cmap=itkwidgets.cm.BuRd, opacity_gaussians= [[{'position': 0.5, 'height': 1, 'width': 0.33, 'xBias': 0.0, 'yBias': 2.0}]])\n",
    "    # Collapse the second viewer's user interface by default.\n",
    "    if 'ui_collapsed' not in viewer_kwargs:\n",
    "            viewer_kwargs['ui_collapsed'] = True\n",
    "    viewer2 = Viewer(image=image2, shadow=False, gradient_opacity=0.0, ui_collapsed=True, \n",
    "                cmap=itkwidgets.cm.inferno,\n",
    "                opacity_gaussians= [[{'position': 0.5, 'height': 1, 'width': 0.5, 'xBias': 1, 'yBias': 1.75}]])\n",
    "\n",
    "\n",
    "    widgets.jslink((viewer1, 'mode'), (viewer2, 'mode'))\n",
    "    widgets.jslink((viewer1, 'camera'), (viewer2, 'camera'))\n",
    "    widgets.jslink((viewer1, 'roi'), (viewer2, 'roi'))\n",
    "    widgets.jslink((viewer1, 'rotate'), (viewer2, 'rotate'))\n",
    "    widgets.jslink((viewer1, 'annotations'), (viewer2, 'annotations'))\n",
    "    widgets.jslink((viewer1, 'x_slice'), (viewer2, 'x_slice'))\n",
    "    widgets.jslink((viewer1, 'y_slice'), (viewer2, 'y_slice'))\n",
    "    widgets.jslink((viewer1, 'z_slice'), (viewer2, 'z_slice'))\n",
    "    widgets.jslink((viewer1, 'slicing_planes'), (viewer2, 'slicing_planes'))\n",
    "\n",
    "    link_widgets = []\n",
    "    link_widgets.append(widgets.Label('Link:'))\n",
    "\n",
    "    class UpdateLink(object):\n",
    "        def __init__(self, enable, name):\n",
    "            self.link = None\n",
    "            self.name = name\n",
    "            if enable:\n",
    "                self.link = widgets.jslink((viewer1, name), (viewer2, name))\n",
    "\n",
    "        def __call__(self, change):\n",
    "            if change.new:\n",
    "                self.link = widgets.jslink((viewer1, self.name), (viewer2, self.name))\n",
    "            else:\n",
    "                self.link.unlink()\n",
    "\n",
    "    link_cmap_widget = widgets.Checkbox(description='cmap', value=link_cmap)\n",
    "    update_cmap_link = UpdateLink(link_cmap, 'cmap')\n",
    "    link_cmap_widget.observe(update_cmap_link, 'value')\n",
    "    link_widgets.append(link_cmap_widget)\n",
    "\n",
    "    link_gradient_opacity_widget = widgets.Checkbox(description='gradient_opacity', value=link_gradient_opacity)\n",
    "    update_gradient_opacity_link = UpdateLink(link_gradient_opacity, 'gradient_opacity')\n",
    "    link_gradient_opacity_widget.observe(update_gradient_opacity_link, 'value')\n",
    "    link_widgets.append(link_gradient_opacity_widget)\n",
    "\n",
    "    link_widget = widgets.HBox(link_widgets)\n",
    "\n",
    "    widget = widgets.AppLayout(header=None,\n",
    "            left_sidebar=viewer1,\n",
    "            center=None,\n",
    "            right_sidebar=viewer2,\n",
    "            footer=link_widget,\n",
    "            pane_heights=[1, 6, 1])\n",
    "    return widget\n",
    "\n",
    "fault_compare(np.rot90(arr, 1, (0,2)), np.rot90(faults, 1, (0,2)))"
   ]
  },
  {
   "cell_type": "markdown",
   "metadata": {},
   "source": [
    "# Writing results back to Petrel\n",
    "\n",
    "We are happy with the result, and want to apply it to the entire cube in petrel.\n",
    "\n",
    "First lets clone original cube:"
   ]
  },
  {
   "cell_type": "code",
   "execution_count": null,
   "metadata": {},
   "outputs": [],
   "source": [
    "cube_fault_prediction = cube.clone('cube_fault_prediction', copy_values = False)"
   ]
  },
  {
   "cell_type": "markdown",
   "metadata": {},
   "source": [
    "And define a function that applies the model across the cube:"
   ]
  },
  {
   "cell_type": "code",
   "execution_count": null,
   "metadata": {},
   "outputs": [],
   "source": [
    "a = 0.5\n",
    "overlapp = 0.1\n",
    "def apply_calculator(src_cube, dst_cube, calculator, chunk_size = (128,128,128)):\n",
    "    m1, m2, m3 = src_cube.extent.i, src_cube.extent.j, src_cube.extent.k\n",
    "    n1, n2, n3 = chunk_size\n",
    "    \n",
    "    x_count = math.ceil(2*m1/n1)\n",
    "    y_count = math.ceil(2*m2/n2)\n",
    "    z_count = math.ceil(2*m3/n3)\n",
    "    for x in range(x_count):\n",
    "        if ( x*(n1/(1+overlapp)) > (m1 - n1/2 -1)):\n",
    "              continue\n",
    "        for y in range(y_count):\n",
    "            if (y*(n2/(1+overlapp)) > (m2 - n2/2 -1)):\n",
    "                continue\n",
    "            for z in range(z_count):\n",
    "                if (z*(n3/(1+overlapp)) > (m3 - n3/2 -1) ):\n",
    "                      continue\n",
    "                x_offset = math.floor(min(x*(n1/(1+overlapp)), m1 - n1 -1))\n",
    "                y_offset = math.floor(min(y*(n2/(1+overlapp)), m2 - n2 -1))\n",
    "                z_offset = math.floor(min(z*(n3/(1+overlapp)), m3 - n3 -1))\n",
    "                x_range = (x_offset + 1, x_offset+n1)\n",
    "                y_range = (y_offset + 1, y_offset+n2)\n",
    "                z_range = (z_offset + 1, z_offset+n3)\n",
    "                src_data = src_cube.chunk(x_range, y_range, z_range).as_array()\n",
    "                with dst_cube.chunk(x_range, y_range, z_range).values() as dst:\n",
    "                    result = calculator(src_data)\n",
    "                    mask = (dst == 0)\n",
    "                    dst[mask] = result[mask]\n",
    "                    dst[2:-2,2:-2,2:-2] = a*result[2:-2,2:-2,2:-2] + (1-a)*dst[2:-2,2:-2,2:-2]\n"
   ]
  },
  {
   "cell_type": "markdown",
   "metadata": {},
   "source": [
    "Note that the cloned seismic cube persists the template of the original seismic cube. This means that in order to see the changes written to it from petrel you will need to change the template to a more typical fault attribute template. The cloned cube will have values in the range 0 to 1 after it has been processed.\n",
    "\n",
    "Once we have changed the template of the cloned seismic, we are ready to apply our calculator to the cloned cube. We can then see our petrel cube get updated in real time in petrel."
   ]
  },
  {
   "cell_type": "code",
   "execution_count": null,
   "metadata": {},
   "outputs": [],
   "source": [
    "apply_calculator(cube, cube_fault_prediction, fault_attribute_calculator)"
   ]
  },
  {
   "cell_type": "code",
   "execution_count": null,
   "metadata": {},
   "outputs": [],
   "source": []
  }
 ],
 "metadata": {
  "kernelspec": {
   "display_name": "Python 3",
   "language": "python",
   "name": "python3"
  },
  "language_info": {
   "codemirror_mode": {
    "name": "ipython",
    "version": 3
   },
   "file_extension": ".py",
   "mimetype": "text/x-python",
   "name": "python",
   "nbconvert_exporter": "python",
   "pygments_lexer": "ipython3",
   "version": "3.8.5"
  }
 },
 "nbformat": 4,
 "nbformat_minor": 4
}
